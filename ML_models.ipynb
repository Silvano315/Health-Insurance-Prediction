{
 "cells": [
  {
   "cell_type": "code",
   "execution_count": null,
   "metadata": {},
   "outputs": [],
   "source": [
    "from sklearn.model_selection import RandomizedSearchCV, cross_val_score, train_test_split, StratifiedKFold\n",
    "from sklearn.metrics import accuracy_score, precision_score, recall_score, f1_score, roc_auc_score, roc_curve\n",
    "from imblearn.over_sampling import ADASYN\n",
    "from sklearn.ensemble import RandomForestClassifier\n",
    "from xgboost import XGBClassifier\n",
    "import matplotlib.pyplot as plt\n",
    "import pandas as pd\n",
    "import numpy as np\n"
   ]
  },
  {
   "cell_type": "code",
   "execution_count": null,
   "metadata": {},
   "outputs": [],
   "source": [
    "# Import Datasets\n",
    "\n",
    "df_train = pd.read_csv('Data_for_Modelling/df_train.csv', sep=',')\n",
    "\n",
    "df_test = pd.read_csv('Data_for_Modelling/df_test.csv', sep=',')"
   ]
  },
  {
   "cell_type": "code",
   "execution_count": null,
   "metadata": {},
   "outputs": [],
   "source": [
    "# Definizione dei modelli\n",
    "models = {\n",
    "    \"Random Forest\": RandomForestClassifier(),\n",
    "    \"XGBoost\": XGBClassifier(),\n",
    "}"
   ]
  },
  {
   "cell_type": "code",
   "execution_count": null,
   "metadata": {},
   "outputs": [],
   "source": [
    "# Oversampling con ADASYN\n",
    "adasyn = ADASYN()\n",
    "X_train_resampled, y_train_resampled = adasyn.fit_resample(df_train.drop(columns=['Response']), df_train['Response'])"
   ]
  },
  {
   "cell_type": "code",
   "execution_count": null,
   "metadata": {},
   "outputs": [],
   "source": [
    "# Cross-validation e ricerca casuale dei parametri\n",
    "for name, model in models.items():\n",
    "    print(f\"Training {name}...\")\n",
    "    cv = StratifiedKFold(n_splits=10, shuffle=True, random_state=42)\n",
    "    search = RandomizedSearchCV(model, param_distributions=param_dist, n_iter=10, scoring='accuracy', n_jobs=-1, cv=cv)\n",
    "    search.fit(X_train_resampled, y_train_resampled)\n",
    "    print(f\"Best parameters: {search.best_params_}\")\n",
    "    best_model = search.best_estimator_\n",
    "\n",
    "    # Valutazione del modello sui dati di training\n",
    "    scores = cross_val_score(best_model, X_train_resampled, y_train_resampled, cv=cv, scoring='accuracy')\n",
    "    print(f\"Cross-validation Accuracy scores: {scores}\")\n",
    "\n",
    "    # Valutazione del modello sui dati di test\n",
    "    y_pred = best_model.predict(df_test.drop(columns=['Response']))\n",
    "    print(f\"Test accuracy for {name}: {accuracy_score(df_test['Response'], y_pred)}\")\n",
    "    print(f\"Test precision for {name}: {precision_score(df_test['Response'], y_pred)}\")\n",
    "    print(f\"Test recall for {name}: {recall_score(df_test['Response'], y_pred)}\")\n",
    "    print(f\"Test F1 score for {name}: {f1_score(df_test['Response'], y_pred)}\")\n",
    "\n",
    "    # Calcolo e visualizzazione della curva ROC e dell'AUC\n",
    "    y_pred_proba = best_model.predict_proba(df_test.drop(columns=['Response']))[:,1]\n",
    "    fpr, tpr, thresholds = roc_curve(df_test['Response'], y_pred_proba)\n",
    "    plt.plot(fpr, tpr, label=f\"{name} (AUC = {roc_auc_score(df_test['Response'], y_pred_proba):.2f})\")\n",
    "\n",
    "plt.plot([0, 1], [0, 1], 'k--')\n",
    "plt.xlabel('False Positive Rate')\n",
    "plt.ylabel('True Positive Rate')\n",
    "plt.title('ROC Curve')\n",
    "plt.legend(loc='lower right')\n",
    "plt.show()"
   ]
  }
 ],
 "metadata": {
  "kernelspec": {
   "display_name": ".venv",
   "language": "python",
   "name": "python3"
  },
  "language_info": {
   "codemirror_mode": {
    "name": "ipython",
    "version": 3
   },
   "file_extension": ".py",
   "mimetype": "text/x-python",
   "name": "python",
   "nbconvert_exporter": "python",
   "pygments_lexer": "ipython3",
   "version": "3.11.9"
  }
 },
 "nbformat": 4,
 "nbformat_minor": 2
}
